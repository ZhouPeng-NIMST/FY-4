{
 "cells": [
  {
   "cell_type": "code",
   "execution_count": null,
   "metadata": {},
   "outputs": [],
   "source": [
    "import os \n",
    "import numpy\n",
    "from netCDF4 import Dataset as nc\n",
    "from netCDF4 import num2date\n",
    "import h5py\n",
    "# import gc\n",
    "# import pandas as pd\n",
    "np.set_printoptions(suppress= True)"
   ]
  },
  {
   "cell_type": "code",
   "execution_count": null,
   "metadata": {},
   "outputs": [],
   "source": [
    "def maTch(ec_data,index_lat,index_lon,num,ispr = True):\n",
    "    '''\n",
    "    地面数据与大气层数据分开匹配\n",
    "    '''\n",
    "    if ispr:\n",
    "        out = np.array([ec_data[num,:,i,j] for i,j in zip(index_lat,index_lon)])\n",
    "        return out[:,::-1]\n",
    "    else:\n",
    "        out = np.array([ec_data[num,i,j] for i,j in zip(index_lat,index_lon)])\n",
    "        return out"
   ]
  },
  {
   "cell_type": "code",
   "execution_count": null,
   "metadata": {
    "scrolled": true
   },
   "outputs": [],
   "source": [
    "# 存放数据\n",
    "pathout = r'D:\\FY4\\matched'\n",
    "mons = ['07','08','09','10','11','12']\n",
    "for mon in [mons[0]]:\n",
    "    data = np.full((1,488),999)\n",
    "    # 路径设置\n",
    "    path_ec = r'F:\\EC&GIIRSdata\\ec_small\\2018'+ mon\n",
    "    path_giirs = r'F:\\EC&GIIRSdata\\giirs\\2018'+ mon\n",
    "    for file_ec in os.listdir(path_ec):\n",
    "        if file_ec[-5] == 'p':\n",
    "    #        print(os.path.join(path_ec,files_ec))\n",
    "    #       打开文件\n",
    "            fname_ec = os.path.join(path_ec,file_ec)\n",
    "            f_pr = nc(fname_ec)\n",
    "            f_sr = nc(fname_ec[:-5] + 'sr.nc')\n",
    "    #         获取经纬度\n",
    "            lon_ec = f_pr.variables['longitude'][:]\n",
    "            lat_ec = f_pr.variables['latitude'][:]\n",
    "            time_list = [num2date(o,f_pr.variables['time'].units).strftime('%Y%m%d') for o in f_pr.variables['time']]\n",
    "            time_list_HH = [num2date(o,f_pr.variables['time'].units).strftime('%Y%m%d%H') for o in f_pr.variables['time']]\n",
    "    #         遍历giirs文件\n",
    "            for dirs_gr in os.listdir(path_giirs):\n",
    "                for name in os.listdir(os.path.join(path_giirs,dirs_gr)):\n",
    "                    if name == file_ec[6:8]:\n",
    "                        dir_gr_dd = os.path.join(os.path.join(path_giirs,dirs_gr),name)\n",
    "                        for file_gr in os.listdir(dir_gr_dd):\n",
    "                            fname_gr = os.path.join(dir_gr_dd,file_gr)\n",
    "    #                         获取giirs文件时间\n",
    "                            time_gr = fname_gr.split('_')[7]\n",
    "    #                         根据时间索引ec中的第几个\n",
    "                            if fname_gr.split('_')[-4][8:10] == '23':\n",
    "                                num = time_list.index(time_gr) + 1\n",
    "                            else:\n",
    "                                num = time_list.index(time_gr)\n",
    "    #                         文件时间记录\n",
    "                            datatime_save_ec = np.array([time_list_HH[num] for i in range(128)])\n",
    "                            datatime_save_gr = np.array([fname_gr.split('_')[-4][:12]for i in range(128)])\n",
    "                            print(time_list_HH[num],fname_gr.split('_')[-4][:12])\n",
    "    #                       打开giirs文件\n",
    "                            f_gr = h5py.File(fname_gr,'r')\n",
    "    #                       读取数据\n",
    "                            lon_giirs = f_gr['IRLW_Longitude'][:]\n",
    "                            lat_giirs = f_gr['IRLW_Latitude'][:]\n",
    "                            slaz_giirs = f_gr['IRLW_SatelliteZenith'][:]\n",
    "                            saz_giirs = f_gr['IRLW_SolarZenith'][:]\n",
    "                            mw = f_gr['ES_RealMW'][240:561,:].T * 100\n",
    "                            lw = f_gr['ES_RealLW'][96:145,:].T\n",
    "    #                       获得最近点坐标\n",
    "                            index_lon = abs(lon_giirs.reshape(-1,1) - lon_ec.reshape(1,-1)).argmin(axis=1)\n",
    "                            index_lat = abs(lat_giirs.reshape(-1,1) - lat_ec.reshape(1,-1)).argmin(axis=1)\n",
    "                            # 匹配\n",
    "                            t_ec_match = maTch(f_pr.variables['t'],index_lat,index_lon,num,ispr= True)\n",
    "                            r_ec_match = maTch(f_pr.variables['r'],index_lat,index_lon,num,ispr= True)\n",
    "                            o3_ec_match = maTch(f_pr.variables['o3'],index_lat,index_lon,num,ispr= True) * 1e8\n",
    "                            c_ec_match = maTch(f_sr.variables['tcc'],index_lat,index_lon,num,ispr= False) * 10000\n",
    "    #                         关闭文件\n",
    "                            f_gr.close()\n",
    "    #                       拼接\n",
    "                            thisfile = np.c_[np.c_[datatime_save_ec,datatime_save_gr],np.c_[lon_giirs,lat_giirs,slaz_giirs,saz_giirs,lw,mw,t_ec_match,r_ec_match,o3_ec_match,c_ec_match].round(2)]\n",
    "                            data = np.r_[data,thisfile]\n",
    "                            thisfile = []\n",
    "            f_pr.close()\n",
    "            f_sr.close()\n",
    "\n",
    "    # 删除第一行\n",
    "    data = np.delete(data,0,axis=0)\n",
    "#     np.savetxt(mon + '.txt',data,fmt='%.2s')"
   ]
  },
  {
   "cell_type": "code",
   "execution_count": null,
   "metadata": {},
   "outputs": [],
   "source": []
  },
  {
   "cell_type": "code",
   "execution_count": null,
   "metadata": {},
   "outputs": [],
   "source": []
  },
  {
   "cell_type": "code",
   "execution_count": null,
   "metadata": {},
   "outputs": [],
   "source": []
  },
  {
   "cell_type": "code",
   "execution_count": null,
   "metadata": {},
   "outputs": [],
   "source": [
    "# # 打开文件\n",
    "# f_gr = h5py.File(path1,'r')\n",
    "# f_rh = nc(path2)\n",
    "# f_c = nc(path2[:-5] + 'sr.nc')"
   ]
  },
  {
   "cell_type": "code",
   "execution_count": null,
   "metadata": {},
   "outputs": [],
   "source": [
    "# # 获取数据\n",
    "# lon_ec = f_rh.variables['longitude'][:]\n",
    "# lat_ec = f_rh.variables['latitude'][:]\n",
    "# lon_giirs = f_gr['IRLW_Longitude'][:]\n",
    "# lat_giirs = f_gr['IRLW_Latitude'][:]\n",
    "# slaz_giirs = f_gr['IRLW_SatelliteZenith'][:]\n",
    "# saz_giirs = f_gr['IRLW_SolarZenith'][:]\n",
    "# mw = f_gr['ES_RealMW'][240:561,:].T\n",
    "# lw = f_gr['ES_RealLW'][96:145,:].T"
   ]
  },
  {
   "cell_type": "code",
   "execution_count": null,
   "metadata": {},
   "outputs": [],
   "source": [
    "# # 获得最近点坐标\n",
    "# index_lon = abs(lon_giirs.reshape(-1,1) - lon_ec.reshape(1,-1)).argmin(axis=1)\n",
    "# index_lat = abs(lat_giirs.reshape(-1,1) - lat_ec.reshape(1,-1)).argmin(axis=1)"
   ]
  },
  {
   "cell_type": "code",
   "execution_count": null,
   "metadata": {},
   "outputs": [],
   "source": [
    "# # 匹配\n",
    "# t_ec_match = maTch(f_rh.variables['t'],index_lat,index_lon,ispr= True)\n",
    "# r_ec_match = maTch(f_rh.variables['r'],index_lat,index_lon,ispr= True)\n",
    "# o3_ec_match = maTch(f_rh.variables['o3'],index_lat,index_lon,ispr= True)\n",
    "# c_ec_match = maTch(f_c.variables['tcc'],index_lat,index_lon,ispr= False)"
   ]
  },
  {
   "cell_type": "code",
   "execution_count": null,
   "metadata": {},
   "outputs": [],
   "source": [
    "# # 关闭文件\n",
    "# f_gr.close()\n",
    "# f_ec.close()\n",
    "# f_c.close()"
   ]
  },
  {
   "cell_type": "code",
   "execution_count": null,
   "metadata": {},
   "outputs": [],
   "source": [
    "# # 拼接\n",
    "# thisfile = np.c_[lon_giirs,lat_giirs,slaz_giirs,saz_giirs,lw,mw,t_ec_match,r_ec_match,o3_ec_match,c_ec_match]\n",
    "# data = np.r_[data,thisfile]"
   ]
  }
 ],
 "metadata": {
  "kernelspec": {
   "display_name": "Python 3",
   "language": "python",
   "name": "python3"
  },
  "language_info": {
   "codemirror_mode": {
    "name": "ipython",
    "version": 3
   },
   "file_extension": ".py",
   "mimetype": "text/x-python",
   "name": "python",
   "nbconvert_exporter": "python",
   "pygments_lexer": "ipython3",
   "version": "3.6.5"
  },
  "varInspector": {
   "cols": {
    "lenName": 16,
    "lenType": 16,
    "lenVar": 40
   },
   "kernels_config": {
    "python": {
     "delete_cmd_postfix": "",
     "delete_cmd_prefix": "del ",
     "library": "var_list.py",
     "varRefreshCmd": "print(var_dic_list())"
    },
    "r": {
     "delete_cmd_postfix": ") ",
     "delete_cmd_prefix": "rm(",
     "library": "var_list.r",
     "varRefreshCmd": "cat(var_dic_list()) "
    }
   },
   "position": {
    "height": "624px",
    "left": "1550px",
    "right": "20px",
    "top": "120px",
    "width": "350px"
   },
   "types_to_exclude": [
    "module",
    "function",
    "builtin_function_or_method",
    "instance",
    "_Feature"
   ],
   "window_display": true
  }
 },
 "nbformat": 4,
 "nbformat_minor": 2
}
